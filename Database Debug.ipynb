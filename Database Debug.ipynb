{
 "cells": [
  {
   "cell_type": "code",
   "execution_count": 4,
   "metadata": {},
   "outputs": [
    {
     "name": "stdout",
     "output_type": "stream",
     "text": [
      "<connection object at 0x10625af80; dsn: 'user=awsuser password=xxx dbname=dev host=redshift-cluster-1.c2ok0zatzd4q.us-east-1.redshift.amazonaws.com port=5439', closed: 0>\n",
      "<cursor object at 0x10624fb50; closed: 0>\n"
     ]
    }
   ],
   "source": [
    "import configparser\n",
    "import psycopg2\n",
    "\n",
    "\n",
    "import psycopg2\n",
    "\n",
    "config = configparser.ConfigParser()\n",
    "config.read('dwh.cfg')\n",
    "\n",
    "conn = psycopg2.connect(\"host={} dbname={} user={} password={} port={}\".format(*config['CLUSTER'].values()))\n",
    "print(conn)\n",
    "cur = conn.cursor()\n",
    "print(cur)\n",
    "\n"
   ]
  },
  {
   "cell_type": "code",
   "execution_count": 5,
   "metadata": {},
   "outputs": [
    {
     "name": "stdout",
     "output_type": "stream",
     "text": [
      "(100, 0, 127361, datetime.datetime(2023, 6, 14, 9, 25, 7, 846748), 1073873003, 600233, 's3://udacity-dend/log_data/2018/11/2018-11-01-events.json                                                                                                                                                                                                       ', 1, 'location                                                                                                                       ', 'varchar   ', '15        ', 0, '{\"artist\":null,\"auth\":\"Logged In\",\"firstName\":\"Walter\",\"gender\":\"M\",\"itemInSession\":0,\"lastName\":\"Frye\",\"length\":null,\"level\":\"free\",\"location\":\"San Francisco-Oakland-Hayward, CA\",\"method\":\"GET\",\"page\":\"Home\",\"registration\":1540919166796.0,\"sessionId\":38,\"song\":null,\"status\":200,\"ts\":1541105830796,\"userAgent\":\"\\\\\\\\\"Mozilla\\\\\\\\/5.0 (Macintosh; Intel Mac OS X 10_9_4) AppleWebKit\\\\\\\\/537.36 (KHTML, like Gecko) Chrome\\\\\\\\/36.0.1985.143 Safari\\\\\\\\/537.36\\\\\\\\\"\",\"userId\":\"39\"}                                                                                                                                                                                                                                                                                                                                                                                                                                                                                                                                                                                  ', '                                                                                                                                                                                                                                                                                                                                                                                                                                                                                                                                                                                                                                                                                                                                                                                                                                                                                                                                                                                                                                                                ', 1204, 'String length exceeds DDL length                                                                    ', 0, 0, 0)\n",
      "\n",
      "(100, 0, 119153, datetime.datetime(2023, 6, 13, 14, 22, 2, 791113), 1073897878, 401181, 's3://udacity-dend/log_data/2018/11/2018-11-01-events.json                                                                                                                                                                                                       ', 1, '                                                                                                                               ', '          ', '          ', 0, '1541105830796                                                                                                                                                                                                                                                                                                                                                                                                                                                                                                                                                                                                                                                                                                                                                                                                                                                                                                                                                                                                                                                   ', '                                                                                                                                                                                                                                                                                                                                                                                                                                                                                                                                                                                                                                                                                                                                                                                                                                                                                                                                                                                                                                                                ', 1216, 'Overflow, Column type: Integer                                                                      ', 0, 0, 0)\n",
      "\n",
      "(100, 1, 119153, datetime.datetime(2023, 6, 13, 14, 22, 2, 788430), 1073897878, 401181, 's3://udacity-dend/log_data/2018/11/2018-11-02-events.json                                                                                                                                                                                                       ', 1, '                                                                                                                               ', '          ', '          ', 0, '1541121934796                                                                                                                                                                                                                                                                                                                                                                                                                                                                                                                                                                                                                                                                                                                                                                                                                                                                                                                                                                                                                                                   ', '                                                                                                                                                                                                                                                                                                                                                                                                                                                                                                                                                                                                                                                                                                                                                                                                                                                                                                                                                                                                                                                                ', 1216, 'Overflow, Column type: Integer                                                                      ', 0, 0, 0)\n",
      "\n",
      "(100, 1, 119164, datetime.datetime(2023, 6, 13, 14, 41, 4, 725722), 1073971589, 401472, 's3://udacity-dend/log_data/2018/11/2018-11-01-events.json                                                                                                                                                                                                       ', 1, '                                                                                                                               ', '          ', '          ', 0, '1541105830796                                                                                                                                                                                                                                                                                                                                                                                                                                                                                                                                                                                                                                                                                                                                                                                                                                                                                                                                                                                                                                                   ', '                                                                                                                                                                                                                                                                                                                                                                                                                                                                                                                                                                                                                                                                                                                                                                                                                                                                                                                                                                                                                                                                ', 1216, 'Overflow, Column type: Integer                                                                      ', 0, 0, 0)\n",
      "\n",
      "(100, 0, 119164, datetime.datetime(2023, 6, 13, 14, 41, 4, 721736), 1073971589, 401472, 's3://udacity-dend/log_data/2018/11/2018-11-02-events.json                                                                                                                                                                                                       ', 1, '                                                                                                                               ', '          ', '          ', 0, '1541121934796                                                                                                                                                                                                                                                                                                                                                                                                                                                                                                                                                                                                                                                                                                                                                                                                                                                                                                                                                                                                                                                   ', '                                                                                                                                                                                                                                                                                                                                                                                                                                                                                                                                                                                                                                                                                                                                                                                                                                                                                                                                                                                                                                                                ', 1216, 'Overflow, Column type: Integer                                                                      ', 0, 0, 0)\n",
      "\n",
      "(100, 0, 119170, datetime.datetime(2023, 6, 13, 14, 46, 1, 234808), 1073881486, 401559, 's3://udacity-dend/log_data/2018/11/2018-11-01-events.json                                                                                                                                                                                                       ', 1, 'location                                                                                                                       ', 'varchar   ', '15        ', 0, '{\"artist\":null,\"auth\":\"Logged In\",\"firstName\":\"Walter\",\"gender\":\"M\",\"itemInSession\":0,\"lastName\":\"Frye\",\"length\":null,\"level\":\"free\",\"location\":\"San Francisco-Oakland-Hayward, CA\",\"method\":\"GET\",\"page\":\"Home\",\"registration\":1540919166796.0,\"sessionId\":38,\"song\":null,\"status\":200,\"ts\":1541105830796,\"userAgent\":\"\\\\\\\\\"Mozilla\\\\\\\\/5.0 (Macintosh; Intel Mac OS X 10_9_4) AppleWebKit\\\\\\\\/537.36 (KHTML, like Gecko) Chrome\\\\\\\\/36.0.1985.143 Safari\\\\\\\\/537.36\\\\\\\\\"\",\"userId\":\"39\"}                                                                                                                                                                                                                                                                                                                                                                                                                                                                                                                                                                                  ', '                                                                                                                                                                                                                                                                                                                                                                                                                                                                                                                                                                                                                                                                                                                                                                                                                                                                                                                                                                                                                                                                ', 1204, 'String length exceeds DDL length                                                                    ', 0, 0, 0)\n",
      "\n"
     ]
    }
   ],
   "source": [
    "query = \"\"\"\n",
    "SELECT * FROM stl_load_errors;\n",
    "\"\"\"\n",
    "\n",
    "cur.execute(query)\n",
    "conn.commit()\n",
    "\n",
    "row = cur.fetchone()\n",
    "while row:\n",
    "    print(row)\n",
    "    print()\n",
    "    row = cur.fetchone()"
   ]
  },
  {
   "cell_type": "code",
   "execution_count": 6,
   "metadata": {},
   "outputs": [],
   "source": [
    "conn.close()"
   ]
  },
  {
   "cell_type": "code",
   "execution_count": null,
   "metadata": {},
   "outputs": [],
   "source": []
  }
 ],
 "metadata": {
  "kernelspec": {
   "display_name": "Python 3",
   "language": "python",
   "name": "python3"
  },
  "language_info": {
   "codemirror_mode": {
    "name": "ipython",
    "version": 3
   },
   "file_extension": ".py",
   "mimetype": "text/x-python",
   "name": "python",
   "nbconvert_exporter": "python",
   "pygments_lexer": "ipython3",
   "version": "3.10.9"
  }
 },
 "nbformat": 4,
 "nbformat_minor": 2
}
